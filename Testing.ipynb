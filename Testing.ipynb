{
 "cells": [
  {
   "cell_type": "code",
   "execution_count": 4,
   "id": "0125bf85",
   "metadata": {},
   "outputs": [],
   "source": [
    "import joblib\n",
    "\n",
    "model = joblib.load('genre_predictor_model.pkl')\n",
    "vectorizer = joblib.load('vectorizer.pkl')\n",
    "mlb = joblib.load('mlb.pkl')\n"
   ]
  },
  {
   "cell_type": "code",
   "execution_count": 5,
   "id": "f1185bcc",
   "metadata": {},
   "outputs": [],
   "source": [
    "model = joblib.load('genre_predictor_model.pkl')\n"
   ]
  },
  {
   "cell_type": "code",
   "execution_count": 6,
   "id": "7239e8d7",
   "metadata": {},
   "outputs": [
    {
     "name": "stdout",
     "output_type": "stream",
     "text": [
      "Predicted genres: [(' ', \"'\", ',', 'A', '[', ']', 'a', 'c', 'd', 'e', 'i', 'm', 'n', 'o', 'r', 't', 'y')]\n"
     ]
    }
   ],
   "source": [
    "def predict_genres(text):\n",
    "    X_new = vectorizer.transform([text])  # Wrap in list!\n",
    "    y_pred = model.predict(X_new)\n",
    "    return mlb.inverse_transform(y_pred)\n",
    "\n",
    "new_movie = \"A lion saves his kingdom from humans\"\n",
    "predicted = predict_genres(new_movie)\n",
    "print(\"Predicted genres:\", predicted)\n"
   ]
  }
 ],
 "metadata": {
  "kernelspec": {
   "display_name": "genre-predictor",
   "language": "python",
   "name": "python3"
  },
  "language_info": {
   "codemirror_mode": {
    "name": "ipython",
    "version": 3
   },
   "file_extension": ".py",
   "mimetype": "text/x-python",
   "name": "python",
   "nbconvert_exporter": "python",
   "pygments_lexer": "ipython3",
   "version": "3.12.9"
  }
 },
 "nbformat": 4,
 "nbformat_minor": 5
}
